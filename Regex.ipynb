{
 "cells": [
  {
   "cell_type": "markdown",
   "metadata": {},
   "source": [
    "# Regex - Expresiones Regulares"
   ]
  },
  {
   "cell_type": "markdown",
   "metadata": {
    "slideshow": {
     "slide_type": "slide"
    }
   },
   "source": [
    "<img src=\"img/human-computers-1920.jpg\" style=\"float:center;height:400px\"/>\n",
    "http://www.computerhistory.org/revolution/calculators/1/65/2209\n"
   ]
  },
  {
   "cell_type": "markdown",
   "metadata": {
    "slideshow": {
     "slide_type": "slide"
    }
   },
   "source": [
    "## Patrones básicos para definir expresiones regulares en Python\n",
    "\n",
    "Patrón | Significado\n",
    "--------|----------\n",
    ". | Cualquier carácter excepto el que representa una nueva línea\n",
    "\\n | Nueva línea\n",
    "\\r | Retorno de carro \n",
    "\\t | Tabulador horizontal\n",
    "\\w | Cualquier carácter que represente un número o letra en minúscula\n",
    "\\W | Cualquier carácter que represente un número o letra en mayúscula\n",
    "\\s | Espacio en blanco (nueva línea, retorno de carro, espacio y cualquier tabulador)\n",
    "\\S | Cualquier carácter que no es un espacio en blanco\n",
    "\\d | Número entre 0 y 9\n",
    "\\D | Cualquier carácter que no es un número\n",
    "^ | Inicio de cadena\n",
    "$ | Fin de cadena\n",
    "\\ | Escape para caracteres especiales\n",
    "[] | Rango. Cualquier carácter que se encuentre entre los corchetes\n",
    "^[] | Cualquier carácter que no se encuentre entre los corchetes\n",
    "\\b | Separación entre un número y/o letra"
   ]
  },
  {
   "cell_type": "markdown",
   "metadata": {
    "slideshow": {
     "slide_type": "slide"
    }
   },
   "source": [
    "## Meta caracteres de repetición en Python\n",
    "\n",
    "Meta carácter | Significado\n",
    "---|---\n",
    "+ | Una o más veces\n",
    "* | Cero o más veces\n",
    "? | Cero o una vez\n",
    "{n} | El carácter se repite n veces"
   ]
  },
  {
   "cell_type": "markdown",
   "metadata": {
    "slideshow": {
     "slide_type": "slide"
    }
   },
   "source": [
    "Un número puede aparecer una o más veces:   ** [\\d]+ **\n"
   ]
  },
  {
   "cell_type": "markdown",
   "metadata": {
    "slideshow": {
     "slide_type": "slide"
    }
   },
   "source": [
    "## Búsquedas"
   ]
  },
  {
   "cell_type": "code",
   "execution_count": 1,
   "metadata": {
    "collapsed": false
   },
   "outputs": [
    {
     "data": {
      "text/plain": [
       "<_sre.SRE_Match object; span=(10, 11), match='o'>"
      ]
     },
     "execution_count": 1,
     "metadata": {},
     "output_type": "execute_result"
    }
   ],
   "source": [
    "import re\n",
    "re.search(r\"o\", \"Hacker School\")"
   ]
  },
  {
   "cell_type": "code",
   "execution_count": 6,
   "metadata": {
    "collapsed": false
   },
   "outputs": [
    {
     "data": {
      "text/plain": [
       "'o'"
      ]
     },
     "execution_count": 6,
     "metadata": {},
     "output_type": "execute_result"
    }
   ],
   "source": [
    "my_regex = re.search(r\"o\", \"Hacker School\")\n",
    "my_regex.group()"
   ]
  },
  {
   "cell_type": "code",
   "execution_count": 9,
   "metadata": {
    "collapsed": false,
    "slideshow": {
     "slide_type": "subslide"
    }
   },
   "outputs": [
    {
     "name": "stdout",
     "output_type": "stream",
     "text": [
      "539\n",
      "823\n",
      "412\n"
     ]
    }
   ],
   "source": [
    "# Búsqueda de un patrón en tres cadenas distintas\n",
    "\n",
    "print(re.search(r\"\\d\\d\\d\", \"Monterrey539NuevoLeon\").group())\n",
    "\n",
    "print(re.search(r\"\\d\\d\\d\", \"823avenidadelestadO\").group())\n",
    "\n",
    "print(re.search(r\"\\d\\d\\d\", \"tamauli412pas\").group())\n",
    "\n"
   ]
  },
  {
   "cell_type": "markdown",
   "metadata": {
    "slideshow": {
     "slide_type": "slide"
    }
   },
   "source": [
    "### Buenas prácticas: \n",
    "Si pensamos utilizar la misma `regex`para búsquedas en diferentes cadenas de texto, podemos *compilar* la expresión regular.\n",
    "\n",
    "- `re.compile`"
   ]
  },
  {
   "cell_type": "code",
   "execution_count": 11,
   "metadata": {
    "collapsed": false
   },
   "outputs": [
    {
     "name": "stdout",
     "output_type": "stream",
     "text": [
      "<_sre.SRE_Match object; span=(9, 12), match='539'>\n",
      "<_sre.SRE_Match object; span=(0, 3), match='823'>\n",
      "<_sre.SRE_Match object; span=(7, 10), match='412'>\n"
     ]
    }
   ],
   "source": [
    "patron_regex = re.compile(r\"\\d\\d\\d\")\n",
    "\n",
    "print(patron_regex.search(\"Monterrey539NuevoLeon\"))\n",
    "\n",
    "print(patron_regex.search(\"823avenidadelestadO\"))\n",
    "\n",
    "print(patron_regex.search(\"tamauli412pas\"))\n"
   ]
  },
  {
   "cell_type": "markdown",
   "metadata": {
    "slideshow": {
     "slide_type": "slide"
    }
   },
   "source": [
    "### Error handling"
   ]
  },
  {
   "cell_type": "code",
   "execution_count": 13,
   "metadata": {
    "collapsed": false
   },
   "outputs": [
    {
     "name": "stdout",
     "output_type": "stream",
     "text": [
      "No existen coincidencias\n"
     ]
    }
   ],
   "source": [
    "# None\n",
    "\n",
    "regex_none = re.search(r\"\\d\\d\\d\", \"7jalisco41\")\n",
    "\n",
    "if regex_none is None: print(\"No existen coincidencias\")"
   ]
  },
  {
   "cell_type": "code",
   "execution_count": 30,
   "metadata": {
    "collapsed": true
   },
   "outputs": [],
   "source": [
    "regex_none = re.search(r\"\\d\\d\\d\", \"7jalisco41\")"
   ]
  },
  {
   "cell_type": "code",
   "execution_count": 31,
   "metadata": {
    "collapsed": false
   },
   "outputs": [
    {
     "ename": "AttributeError",
     "evalue": "'NoneType' object has no attribute 'group'",
     "output_type": "error",
     "traceback": [
      "\u001b[0;31m---------------------------------------------------------------------------\u001b[0m",
      "\u001b[0;31mAttributeError\u001b[0m                            Traceback (most recent call last)",
      "\u001b[0;32m<ipython-input-31-cc8de62fd463>\u001b[0m in \u001b[0;36m<module>\u001b[0;34m()\u001b[0m\n\u001b[0;32m----> 1\u001b[0;31m \u001b[0mregex_none\u001b[0m \u001b[0;34m=\u001b[0m \u001b[0mre\u001b[0m\u001b[0;34m.\u001b[0m\u001b[0msearch\u001b[0m\u001b[0;34m(\u001b[0m\u001b[0;34mr\"\\d\\d\\d\"\u001b[0m\u001b[0;34m,\u001b[0m \u001b[0;34m\"7jalisco41\"\u001b[0m\u001b[0;34m)\u001b[0m\u001b[0;34m.\u001b[0m\u001b[0mgroup\u001b[0m\u001b[0;34m(\u001b[0m\u001b[0;34m)\u001b[0m\u001b[0;34m\u001b[0m\u001b[0m\n\u001b[0m",
      "\u001b[0;31mAttributeError\u001b[0m: 'NoneType' object has no attribute 'group'"
     ]
    }
   ],
   "source": [
    "regex_none = re.search(r\"\\d\\d\\d\", \"7jalisco41\").group()"
   ]
  },
  {
   "cell_type": "code",
   "execution_count": 29,
   "metadata": {
    "collapsed": false
   },
   "outputs": [
    {
     "name": "stdout",
     "output_type": "stream",
     "text": [
      "No existen coincidencias\n"
     ]
    }
   ],
   "source": [
    "# Exceptions\n",
    "try:\n",
    "    regex_none = re.search(r\"\\d\\d\\d\", \"7jalisco41\").group()\n",
    "except:\n",
    "    print(\"No existen coincidencias\")"
   ]
  },
  {
   "cell_type": "code",
   "execution_count": null,
   "metadata": {
    "collapsed": true
   },
   "outputs": [],
   "source": [
    "## Agregar ejercicio"
   ]
  },
  {
   "cell_type": "markdown",
   "metadata": {
    "slideshow": {
     "slide_type": "slide"
    }
   },
   "source": [
    "## Agrupamiento"
   ]
  },
  {
   "cell_type": "code",
   "execution_count": null,
   "metadata": {
    "collapsed": true
   },
   "outputs": [],
   "source": [
    "regex_con_grupo = re.compile(r\"(\\d+)\")"
   ]
  }
 ],
 "metadata": {
  "celltoolbar": "Slideshow",
  "kernelspec": {
   "display_name": "Python 3",
   "language": "python",
   "name": "python3"
  },
  "language_info": {
   "codemirror_mode": {
    "name": "ipython",
    "version": 3
   },
   "file_extension": ".py",
   "mimetype": "text/x-python",
   "name": "python",
   "nbconvert_exporter": "python",
   "pygments_lexer": "ipython3",
   "version": "3.5.1"
  }
 },
 "nbformat": 4,
 "nbformat_minor": 0
}
